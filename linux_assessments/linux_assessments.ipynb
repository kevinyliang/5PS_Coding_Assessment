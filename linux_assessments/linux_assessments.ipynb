{
 "cells": [
  {
   "cell_type": "markdown",
   "metadata": {},
   "source": [
    "## 5 Prime Sciences: Linux assessments"
   ]
  },
  {
   "cell_type": "markdown",
   "metadata": {},
   "source": [
    "This is the markdown for the linux assessments\n",
    "\n",
    "This section should be completed using the **Linux standard command line utilities or common bioinformatics binary programs**. \n",
    "\n",
    "**Do not use R, Python or other high-level programming languages.** \n",
    "\n",
    "Describe how you answer each question by pasting code and explaining your answer. \n",
    "\n",
    "Optionally, *format answers within a single Markdown document*. Using the linked GWAS summary statistics data file (see Input Data) to report on the following:"
   ]
  },
  {
   "cell_type": "markdown",
   "metadata": {},
   "source": [
    "### The input data:\n",
    "\n",
    "##### GWAS summary statistics\n",
    "* GWAS sumstats: http://ftp.ebi.ac.uk/pub/databases/gwas/summary_statistics/GCST005001-GCST006000/GCST005544/fn2stu.MAF0_.005.pos_.out_.gz\n",
    "* GWAS sumstats md5sum: 6d970202ef26b4cdef452eb25d436f38\n",
    "* Number of lines: 10586900\n",
    "\n",
    "##### GWAS README\n",
    "* GWAS readme: http://ftp.ebi.ac.uk/pub/databases/gwas/summary_statistics/GCST005001-GCST006000/GCST005544/Zheng%20HF_26367794_readme.pdf\n",
    "* GWAS readme md5sum: 3d52cf0ec6da687be06cdbbd7af07662"
   ]
  },
  {
   "cell_type": "markdown",
   "metadata": {
    "vscode": {
     "languageId": "shellscript"
    }
   },
   "source": [
    "### Question 1\n",
    "Determine the character used for the column separator."
   ]
  },
  {
   "cell_type": "markdown",
   "metadata": {},
   "source": [
    "Solution 1:\n",
    "\n",
    "In this simple bash script, I obtained the first line of the file (assuming it is the header). I then just used regular expression to see if I see a space or tabs in the line.\n",
    "\n",
    "Limitations:\n",
    "  This is very crude and does assume a few important things:\n",
    "    1. It assumes that for tab deliminated files, spaces are not used in the name\n",
    "    2. It assumes that all columns have the same type of separators (which is usually the case unless the file was malformed)\n",
    "    3. It only tests 2 types of separators, but it can of course be extended to have more ifelse statements.\n"
   ]
  },
  {
   "cell_type": "code",
   "execution_count": 27,
   "metadata": {
    "vscode": {
     "languageId": "shellscript"
    }
   },
   "outputs": [
    {
     "name": "stdout",
     "output_type": "stream",
     "text": [
      "The separator is tabs\n"
     ]
    }
   ],
   "source": [
    "%%bash\n",
    "# input file paths:\n",
    "gwas_gziped_file=\"/Users/kevinliang/Desktop/work/working/interview_prep/5prime/5PrimeSciences_coding_assessments/data/fn2stu.MAF0_.005.pos_.out_.gz\"\n",
    "# assuming all lines have the same column separator and are not mixed, we can use regex to match\n",
    "\n",
    "## obtain the first line\n",
    "header_line=$(gunzip -c $gwas_gziped_file | head -n 1)\n",
    "tab_string=\"\\t\"\n",
    "space_string=\" \"\n",
    "if [[ $header_line =~ $space_string ]]; then \n",
    "  echo 'The separator is space'\n",
    "elif [[ $header_line =~ $tab_string ]]; then \n",
    "  echo 'The separator is tabs'\n",
    "else\n",
    "  echo \"Not sure\"\n",
    "fi"
   ]
  },
  {
   "cell_type": "markdown",
   "metadata": {},
   "source": [
    "Solution 2:\n",
    "\n",
    "Alternatively, it is often easier to obtain the first few rows of the file, write it to file and inspect it.\n",
    "\n",
    "Limitation:\n",
    "  1. It does assume that the entire file have the same separator, which is usually the case\n",
    "\n",
    "To check, it is always possible to make sure all rows have the same number of columns"
   ]
  },
  {
   "cell_type": "code",
   "execution_count": 28,
   "metadata": {
    "vscode": {
     "languageId": "shellscript"
    }
   },
   "outputs": [],
   "source": [
    "%%bash\n",
    "gwas_gziped_file=\"/Users/kevinliang/Desktop/work/working/interview_prep/5prime/5PrimeSciences_coding_assessments/data/fn2stu.MAF0_.005.pos_.out_.gz\"\n",
    "gunzip -c $gwas_gziped_file | head > /Users/kevinliang/Desktop/work/working/interview_prep/5prime/5PrimeSciences_coding_assessments/data/header_of_gwas.txt\n"
   ]
  },
  {
   "cell_type": "markdown",
   "metadata": {
    "vscode": {
     "languageId": "shellscript"
    }
   },
   "source": [
    "### Question 2\n",
    "Obtain the line count"
   ]
  },
  {
   "cell_type": "markdown",
   "metadata": {
    "vscode": {
     "languageId": "shellscript"
    }
   },
   "source": [
    "Solution:\n",
    "  unzip the file, then count the number of lines"
   ]
  },
  {
   "cell_type": "code",
   "execution_count": 29,
   "metadata": {
    "vscode": {
     "languageId": "shellscript"
    }
   },
   "outputs": [
    {
     "name": "stdout",
     "output_type": "stream",
     "text": [
      "10586900\n"
     ]
    }
   ],
   "source": [
    "%%bash\n",
    "gwas_gziped_file=\"/Users/kevinliang/Desktop/work/working/interview_prep/5prime/5PrimeSciences_coding_assessments/data/fn2stu.MAF0_.005.pos_.out_.gz\"\n",
    "\n",
    "n_lines=$(gunzip -c $gwas_gziped_file | wc -l)\n",
    "echo $n_lines\n"
   ]
  },
  {
   "cell_type": "markdown",
   "metadata": {
    "vscode": {
     "languageId": "shellscript"
    }
   },
   "source": [
    "### Question 3\n",
    "Obtain the number of column count"
   ]
  },
  {
   "cell_type": "markdown",
   "metadata": {},
   "source": [
    "Solution:\n",
    "  1. obtain the header (gunzip -c...)\n",
    "  2. use sed to replace tabs with newline (as we know the separators are tabs)\n",
    "  3. count the number of lines"
   ]
  },
  {
   "cell_type": "code",
   "execution_count": 41,
   "metadata": {
    "vscode": {
     "languageId": "shellscript"
    }
   },
   "outputs": [
    {
     "name": "stdout",
     "output_type": "stream",
     "text": [
      "there are       19 columns\n"
     ]
    }
   ],
   "source": [
    "%%bash\n",
    "gwas_gziped_file=\"/Users/kevinliang/Desktop/work/working/interview_prep/5prime/5PrimeSciences_coding_assessments/data/fn2stu.MAF0_.005.pos_.out_.gz\"\n",
    "\n",
    "# obtain the header\n",
    "n_column=$(sed \"s/\\t/\\\\n/g\" <(gunzip -c $gwas_gziped_file | head -n 1) | wc -l )\n",
    "# we know the separator is tabs, so split by tabs and count the number of lines\n",
    "echo $n_column"
   ]
  },
  {
   "cell_type": "markdown",
   "metadata": {},
   "source": [
    "### Question 4. \n",
    "\n",
    "Extract summary statistics within chromosome 7 from position 120500718 to 121500718, and keep only lines where the value of the column rs_number matches ‘^rs’ Subset this output for the following columns: chromosome, position and rs_number. Save the resulting lines with 3 columns to another file."
   ]
  },
  {
   "cell_type": "markdown",
   "metadata": {},
   "source": [
    "Solution:\n",
    "  Will be using AWK to figure this out.\n",
    "\n",
    "Critiera:\n",
    "\n",
    "* within chromosome 7\n",
    "* positions between 121500718 and 120500718\n",
    "* Have rsid (i.e., the rs_number columns starts with rs)\n",
    "* output the chromosome, position, rs_number\n",
    "* save to file\n",
    "\n",
    "Steps:\n",
    "\n",
    "0. unzip the gwas file and pipe it into awk\n",
    "1. (NR == FNR): technically not needed, though used if parsing more than 1 files, 'for each line of the the first file'\n",
    "2. If (the critieria listed are satisfied)\n",
    "3. print out the 3 columns\n",
    "4. redirect the output to a file"
   ]
  },
  {
   "cell_type": "code",
   "execution_count": 81,
   "metadata": {
    "vscode": {
     "languageId": "shellscript"
    }
   },
   "outputs": [],
   "source": [
    "%%bash\n",
    "\n",
    "gwas_gziped_file=\"/Users/kevinliang/Desktop/work/working/interview_prep/5prime/5PrimeSciences_coding_assessments/data/fn2stu.MAF0_.005.pos_.out_.gz\"\n",
    "output_file=\"/Users/kevinliang/Desktop/work/working/interview_prep/5prime/5PrimeSciences_coding_assessments/data/q4_outputs.txt\"\n",
    "# the indices for the relevant columns we care about\n",
    "## 1-based\n",
    "chrom_idx=1\n",
    "rsid_idx=3\n",
    "pos_idx=2\n",
    "pos_max=121500718\n",
    "pos_min=120500718\n",
    "targ_chrom=7\n",
    "\n",
    "awk '(NR==FNR){if ($'$chrom_idx' == '$targ_chrom' && $'$rsid_idx' ~ \"^rs\" && $'$pos_idx' <= '$pos_max' && $'$pos_idx' >= '$pos_min'){print $'$chrom_idx',$'$pos_idx',$'$rsid_idx'}}' <(gunzip -c ${gwas_gziped_file}) > $output_file\n"
   ]
  },
  {
   "cell_type": "markdown",
   "metadata": {
    "vscode": {
     "languageId": "shellscript"
    }
   },
   "source": [
    "### Question 5:\n",
    "Bonus: Do step 4 in a single command-line statement."
   ]
  },
  {
   "cell_type": "markdown",
   "metadata": {
    "vscode": {
     "languageId": "shellscript"
    }
   },
   "source": [
    "The above answer is in a single awk statement."
   ]
  },
  {
   "cell_type": "markdown",
   "metadata": {},
   "source": [
    "### Question 6:\n",
    "Using the chromosome and position columns from the output from step 4, subset\n",
    "the original GWAS summary statistics file by matching on chromosome and position, ie re-extract the lines within the subregion by matching chromosome and position of the variants in the subregion."
   ]
  },
  {
   "cell_type": "markdown",
   "metadata": {},
   "source": [
    "Solution:\n",
    "  Similar to Q4, will be using awk.\n",
    "\n",
    "Steps:\n",
    "\n",
    "0. pass in the file from Q4 and the unzipped gwas summary statistics to awk\n",
    "1. Use awk to store all the chromosome, position and rsids we want in chrom, pos, and rsid respectively\n",
    "  - NR==FNR will mean these are lines within the first file\n",
    "  - next will move on to the next entry\n",
    "2. when NR != FNR (this is happening when reaching lines in the second file), will print out the rows if the chromosome and position is what we want.\n",
    "\n",
    "  Notes:\n",
    "    - This matches positions and chromosome exactly, as stated in the question, though can be modified like above to match in range. In which case, the first awk statement should keep track of min and max positions rather than all positions.\n",
    "  "
   ]
  },
  {
   "cell_type": "code",
   "execution_count": 85,
   "metadata": {
    "vscode": {
     "languageId": "shellscript"
    }
   },
   "outputs": [],
   "source": [
    "%%bash\n",
    "gwas_gziped_file=\"/Users/kevinliang/Desktop/work/working/interview_prep/5prime/5PrimeSciences_coding_assessments/data/fn2stu.MAF0_.005.pos_.out_.gz\"\n",
    "q4_out_file=\"/Users/kevinliang/Desktop/work/working/interview_prep/5prime/5PrimeSciences_coding_assessments/data/q4_outputs.txt\"\n",
    "q6_out_file=\"/Users/kevinliang/Desktop/work/working/interview_prep/5prime/5PrimeSciences_coding_assessments/data/q6_outputs.txt\"\n",
    "\n",
    "chrom_idx=1\n",
    "rsid_idx=3\n",
    "pos_idx=2\n",
    "\n",
    "awk '(NR==FNR){chrom[$1];pos[$2];rsid[$3];next}(NR != FNR){if ($'$chrom_idx' in chrom && $'$pos_idx' in pos){print $0}}' $q4_out_file <(gunzip -c $gwas_gziped_file) > $q6_out_file\n",
    "\n"
   ]
  }
 ],
 "metadata": {
  "kernelspec": {
   "display_name": "5ps_coding_assessments",
   "language": "python",
   "name": "python3"
  },
  "language_info": {
   "codemirror_mode": {
    "name": "ipython",
    "version": 3
   },
   "file_extension": ".py",
   "mimetype": "text/x-python",
   "name": "python",
   "nbconvert_exporter": "python",
   "pygments_lexer": "ipython3",
   "version": "3.9.19"
  }
 },
 "nbformat": 4,
 "nbformat_minor": 2
}
