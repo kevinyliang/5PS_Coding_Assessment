{
 "cells": [
  {
   "cell_type": "markdown",
   "metadata": {},
   "source": [
    "## Python assessments"
   ]
  },
  {
   "cell_type": "markdown",
   "metadata": {},
   "source": [
    "This section should be completed using Python, and the “Pandas” package (https://pandas.pydata.org/). \n",
    "\n",
    "Note that ultimately all created code should be formatted into a **Python package** and the creation and proper documentation of functions is recommended. \n",
    "\n",
    "Using the same GWAS summary statistics file as above, do the following:"
   ]
  },
  {
   "cell_type": "markdown",
   "metadata": {
    "vscode": {
     "languageId": "plaintext"
    }
   },
   "source": [
    "### Question 1"
   ]
  },
  {
   "cell_type": "markdown",
   "metadata": {
    "vscode": {
     "languageId": "plaintext"
    }
   },
   "source": [
    "Read the GWAS summary statistics into a Pandas DataFrame."
   ]
  },
  {
   "cell_type": "markdown",
   "metadata": {
    "vscode": {
     "languageId": "plaintext"
    }
   },
   "source": [
    "Solution:\n",
    "\n",
    "  Please refer to python source code:\n",
    "    python_GWAS_helpers/clean_gwas_sumstats.py"
   ]
  },
  {
   "cell_type": "markdown",
   "metadata": {
    "vscode": {
     "languageId": "plaintext"
    }
   },
   "source": [
    "### Question 2\n"
   ]
  },
  {
   "cell_type": "markdown",
   "metadata": {},
   "source": [
    "Perform data cleaning by removing rows without a valid rsid number and save the\n",
    "cleaned data. This new dataset will be used in another step below.\n",
    "\n",
    "1. How many invalid rsids are there?\n",
    "2. The genome-wide significance p-value is 5e-8, how many SNPs in the file are genome-wide significant?"
   ]
  },
  {
   "cell_type": "code",
   "execution_count": 1,
   "metadata": {},
   "outputs": [],
   "source": [
    "# assumes the cleaned files are created.\n",
    "\n",
    "import os,shutil,sys,re,csv\n",
    "import pandas as pd\n",
    "import numpy as np\n",
    "\n",
    "sumstat_file=\"/Users/kevinliang/Desktop/work/working/interview_prep/5prime/5PrimeSciences_coding_assessments/data/cleaned_sumstats.txt.gz\"\n",
    "sumstat_res = pd.read_csv(sumstat_file,sep=\"\\t\",quoting=csv.QUOTE_NONE)\n",
    "\n",
    "original_file=\"/Users/kevinliang/Desktop/work/working/interview_prep/5prime/5PrimeSciences_coding_assessments/data/fn2stu.MAF0_.005.pos_.out_.gz\"\n",
    "original_sumstats = pd.read_csv(original_file,sep=\"\\t\",quoting=csv.QUOTE_NONE)\n",
    "\n",
    "# re.match matches the beginning of string\n",
    "valid_snps = original_sumstats['rs_number'].apply(lambda val: bool(re.match(\"rs\",val)))\n",
    "n_invalid = np.sum([not x for x in valid_snps])\n",
    "valid_snps = np.sum(valid_snps)\n",
    "\n",
    "# sig variants\n",
    "np.sum(sumstat_res['p-value'] <= 5e-8)"
   ]
  },
  {
   "cell_type": "markdown",
   "metadata": {
    "vscode": {
     "languageId": "plaintext"
    }
   },
   "source": [
    "Solution:\n",
    "\n",
    "  1. There are 1,116,848 rows with invalid RSID (i.e., does not have the format: \"rs####\")"
   ]
  },
  {
   "cell_type": "markdown",
   "metadata": {
    "vscode": {
     "languageId": "plaintext"
    }
   },
   "source": [
    "Solution:\n",
    "\n",
    "2. 879 variants within the cleaned files have p-values less than or equal to 5e-8"
   ]
  },
  {
   "cell_type": "markdown",
   "metadata": {},
   "source": [
    "### Question 3\n",
    "\n",
    "Identify the most significant SNP in the 500 Kb region centred on chromosome 7 at\n",
    "position 121012647."
   ]
  },
  {
   "cell_type": "code",
   "execution_count": null,
   "metadata": {},
   "outputs": [],
   "source": [
    "\n",
    "# obtain the 500kb region around the variant we need\n",
    "## get the most significant snp as before\n",
    "targ_chrom = 7\n",
    "targ_pos = 121012647\n",
    "min_pos = targ_pos - 500_000\n",
    "max_pos = targ_pos + 500_000\n",
    "relevant_region = sumstat_res.query(\n",
    "  f\"chromosome == {targ_chrom} & position <= {max_pos} & position >= {min_pos}\"\n",
    ")\n",
    "most_significant = relevant_region[relevant_region['p-value'] == relevant_region['p-value'].min()]\n",
    "assert(len(most_significant) == 1),f\"more than 1 sig snps...probably pick one first\""
   ]
  },
  {
   "cell_type": "markdown",
   "metadata": {},
   "source": [
    "Solution:\n",
    "\n",
    "  The most significant variant in this region is rs3779381 (chr7:120966790).\n",
    "  \n",
    "  p-value is 2.87e-11"
   ]
  },
  {
   "cell_type": "markdown",
   "metadata": {},
   "source": [
    "### Question 4\n",
    "\n",
    "Using the significant SNP identified in the previous step (i.e. Lead SNP), use\n",
    "LDProxy to obtain LD statistics (r2) for that SNP to all other SNPs in the surrounding 500 Kb region using the European population (https://ldlink.nci.nih.gov/?tab=ldproxy).\n",
    "\n"
   ]
  },
  {
   "cell_type": "markdown",
   "metadata": {},
   "source": [
    "Solution:\n",
    "\n",
    "LD proxy query URL:\n",
    "  - https://ldlink.nih.gov/?var=rs3779381&pop=CEU%2BTSI%2BFIN%2BGBR%2BIBS&genome_build=grch37&r2_d=r2&window=500000&collapseTranscript=true&annotate=forge&tab=ldproxy\n",
    "\n",
    "query parameters:\n",
    "\n",
    "* window:500kb\n",
    "* build: grch37 (https://www.ncbi.nlm.nih.gov/pmc/articles/PMC4755714/)\n",
    "* Ancestry: Europeans\n",
    "* query SNP: rs3779381\n",
    "\n",
    "Results:\n",
    "* R2 computed for 998 variants."
   ]
  },
  {
   "cell_type": "markdown",
   "metadata": {},
   "source": [
    "### Question 5\n",
    "Using your favourite Python package for plotting, create a regional association plot, plotting the -log10 p-value against the genomic position of the 500 Kb region around the Lead SNP. Use the LD statistics from the previous question to bin and colour-code the surrounding SNPs. The created plots should look like this, without"
   ]
  },
  {
   "cell_type": "code",
   "execution_count": null,
   "metadata": {},
   "outputs": [],
   "source": [
    "most_sig_snp = most_significant.rs_number.to_list()[0]\n",
    "most_sig_chr = most_significant.chromosome.to_list()[0]\n",
    "most_sig_pos = most_significant.position.to_list()[0]\n",
    "min_pos = most_sig_pos - 500_000\n",
    "max_pos = most_sig_pos + 500_000\n",
    "assert(most_sig_chr == 7),f\"what?? it should be chr 7 cuz we queried chr 7\"\n",
    "plot_region = sumstat_res.query(\n",
    "  f\"chromosome == {most_sig_chr} & position >= {min_pos} & position <= {max_pos}\"\n",
    ")\n",
    "\n",
    "# get the plot data\n",
    "ld_data = pd.read_csv(\"/Users/kevinliang/Desktop/work/working/interview_prep/5prime/5PrimeSciences_coding_assessments/data/lead_chr7_proxy.tsv\",sep=\"\\t\",quoting=csv.QUOTE_NONE)[['RS_Number',\"R2\"]]\n",
    "plot_data = pd.merge(\n",
    "  plot_region[['position','rs_number','p-value','_-log10_p-value']],\n",
    "  ld_data,\n",
    "  how='left',left_on=['rs_number'],right_on=['RS_Number']\n",
    ").copy()\n",
    "# modify stuff so the plot looks nice\n",
    "\n",
    "## the units in mb\n",
    "x_axis_units = 1_000_000\n",
    "plot_data = plot_data.assign(\n",
    "  pos_mb = lambda df: df['position']/x_axis_units\n",
    ")\n",
    "## rename so easier to reference.\n",
    "plot_data = plot_data.rename(\n",
    "  {\n",
    "    \"_-log10_p-value\":\"neglog10_pvalue\"\n",
    "  },axis=1\n",
    ")\n",
    "## fill in R2 without value to be 0 (so will be the same color)\n",
    "plot_data['R2'] = plot_data['R2'].apply(\n",
    "  lambda val: 0 if np.isnan(val) else val\n",
    ")\n",
    "def get_bins(val):\n",
    "  if val < 0.2:\n",
    "    bin_cat = \"<0.2\"\n",
    "  elif 0.2 <= val < 0.4:\n",
    "    bin_cat = \"[0.2,0.4)\"\n",
    "  elif 0.4 <= val < 0.6:\n",
    "    bin_cat = \"[0.4,0.6)\"\n",
    "  elif 0.6 <= val < 0.8:\n",
    "    bin_cat = \"[0.6,0.8)\"\n",
    "  elif 0.8 <= val:\n",
    "    bin_cat = \"[0.8,1]\"\n",
    "  else:\n",
    "    assert(False),f\"what value are we doing...{val}\"\n",
    "  return bin_cat\n",
    "plot_data['r2_bins'] = plot_data[['R2','rs_number']].apply(\n",
    "  lambda df: \"Query SNP\" if df['rs_number'] == most_sig_snp else get_bins(df['R2']),\n",
    "  axis=1\n",
    ")\n",
    "# create custom palette\n",
    "c_palette = {\n",
    "  \"Query SNP\":\"#c71d71\",\n",
    "  \"<0.2\":\"#120e46\",\n",
    "  \"[0.2,0.4)\":\"#6ea2ce\",\n",
    "  \"[0.4,0.6)\":\"#15a67d\",\n",
    "  \"[0.6,0.8)\":\"#fdb24f\",\n",
    "  \"[0.8,1)\":\"#ef471f\"\n",
    "}\n",
    "\n",
    "fig,ax = plt.subplots()\n",
    "sns.scatterplot(\n",
    "  plot_data,\n",
    "  x = \"pos_mb\", y=\"neglog10_pvalue\",hue=\"r2_bins\",ax=ax,\n",
    "  hue_order = list(c_palette.keys()),palette=c_palette\n",
    ")\n",
    "# annotate the lead snp\n",
    "ax.annotate(\n",
    "  \"Query SNP/Lead SNP\", \n",
    "  xy=(0.5,0.95),\n",
    "  xytext=(0.6,0.95),\n",
    "  xycoords='axes fraction',\n",
    "  arrowprops=dict(arrowstyle=\"->\",facecolor='black')\n",
    ")\n",
    "plt.show()\n",
    "fig.savefig(\n",
    "  \"/Users/kevinliang/Desktop/work/working/interview_prep/5prime/5PrimeSciences_coding_assessments/results/locuszoom_plot_python_chr7.pdf\"\n",
    ")\n"
   ]
  }
 ],
 "metadata": {
  "kernelspec": {
   "display_name": "5ps",
   "language": "python",
   "name": "python3"
  },
  "language_info": {
   "codemirror_mode": {
    "name": "ipython",
    "version": 3
   },
   "file_extension": ".py",
   "mimetype": "text/x-python",
   "name": "python",
   "nbconvert_exporter": "python",
   "pygments_lexer": "ipython3",
   "version": "3.9.19"
  }
 },
 "nbformat": 4,
 "nbformat_minor": 2
}
