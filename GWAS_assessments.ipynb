{
 "cells": [
  {
   "cell_type": "markdown",
   "metadata": {},
   "source": [
    "### GWAS assessments\n",
    "\n"
   ]
  },
  {
   "cell_type": "markdown",
   "metadata": {},
   "source": [
    "### Question 1:\n",
    "\n",
    "For a typical genome-wide association study:\n",
    "\n",
    "a. Why is the lower genome-wide significant p-value threshold of 5e-8 used as\n",
    "opposed to 0.05?\n",
    "\n",
    "b. Given that the input GWAS has ~10 million SNPS, why is the specific value of\n",
    "5e-8 used?"
   ]
  },
  {
   "cell_type": "code",
   "execution_count": null,
   "metadata": {
    "vscode": {
     "languageId": "plaintext"
    }
   },
   "outputs": [],
   "source": [
    "Solutions:\n",
    "\n",
    "a: \n",
    "  This is to account for multipel testing correction. A p-value of 0.05 would correspond to the probability of observing a test-statistic as extreme or more for a single tests. However, when running many tests, this would correspond to some false positive observed.\n",
    "\n",
    "  To use a bonferroni correction of 5e-8 would ensure the family-wise false positive rate of roughly 0.05\n",
    "\n",
    "b:\n",
    "  A 5e-8 bonferroni threshold assuming 1 million independent variants are used instead of the 10 million tests because Bonferroni is correcting for independent tests.\n",
    "\n",
    "  if a particular SNP has a significant (i.e., low p-value), then any variants in strong LD (say >0.8 R2) will also have a low p-value, but these are not independent tests.\n",
    "\n",
    "  a threshold of 5e-8 assumes 1 million independent variants, for 1 million tests and is commonly used in the field"
   ]
  },
  {
   "cell_type": "markdown",
   "metadata": {},
   "source": [
    "### Question 2:\n",
    "\n",
    "Plot the minor allele frequency (MAF) versus the absolute value of the “beta” for all genome-wide significant variants (p-value < 5e-8) from the cleaned GWAS file. You should observe that the minor allele frequency is generally inversely proportional to\n",
    "the absolute beta (|𝑏𝑒𝑡𝑎| ≈ 1 ). 𝑀𝐴𝐹\n",
    "\n",
    "a. What aspect of evolution is responsible for observing so few variants of large beta (effect) at high minor allele frequency, i.e. so few points in the top-right of the plot.\n",
    "\n",
    "b. What aspect of GWAS statistical power is responsible for so few variants of small beta (effect) at low minor allele frequency, i.e. so few points in the bottom-left of the plot, beneath the trend."
   ]
  },
  {
   "cell_type": "code",
   "execution_count": null,
   "metadata": {
    "vscode": {
     "languageId": "plaintext"
    }
   },
   "outputs": [],
   "source": [
    "Solutions:\n",
    "\n",
    "a: \n",
    "  This relates to negative selection. SNPs with strong effects on the phenotype are likely under stronger negative selective pressure, especially if the phenotype is a disease or a trait that is not favorable for mating/reproduction.\n",
    "  \n",
    "  Hence, variants with strong effects tend to be rare.\n",
    "\n",
    "b:\n",
    "  Insufficient sample sizes is the reason why so few variants of small effect size and relatively rare to be detected."
   ]
  }
 ],
 "metadata": {
  "language_info": {
   "name": "python"
  }
 },
 "nbformat": 4,
 "nbformat_minor": 2
}
